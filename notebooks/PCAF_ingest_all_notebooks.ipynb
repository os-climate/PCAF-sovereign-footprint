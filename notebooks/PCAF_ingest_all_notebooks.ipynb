{
 "cells": [
  {
   "cell_type": "code",
   "execution_count": 2,
   "id": "0a6cf7da",
   "metadata": {
    "collapsed": true,
    "jupyter": {
     "outputs_hidden": true
    },
    "tags": []
   },
   "outputs": [
    {
     "name": "stdout",
     "output_type": "stream",
     "text": [
      "Requirement already satisfied: xlwt in /opt/app-root/lib/python3.6/site-packages (1.3.0)\n",
      "Note: you may need to restart the kernel to use updated packages.\n",
      "Requirement already satisfied: matplotlib in /opt/app-root/lib/python3.6/site-packages (3.1.3)\n",
      "Requirement already satisfied: pyparsing!=2.0.4,!=2.1.2,!=2.1.6,>=2.0.1 in /opt/app-root/lib/python3.6/site-packages (from matplotlib) (2.4.7)\n",
      "Requirement already satisfied: kiwisolver>=1.0.1 in /opt/app-root/lib/python3.6/site-packages (from matplotlib) (1.3.1)\n",
      "Requirement already satisfied: numpy>=1.11 in /opt/app-root/lib/python3.6/site-packages (from matplotlib) (1.19.4)\n",
      "Requirement already satisfied: python-dateutil>=2.1 in /opt/app-root/lib/python3.6/site-packages (from matplotlib) (2.8.1)\n",
      "Requirement already satisfied: cycler>=0.10 in /opt/app-root/lib/python3.6/site-packages (from matplotlib) (0.10.0)\n",
      "Requirement already satisfied: six in /opt/app-root/lib/python3.6/site-packages (from cycler>=0.10->matplotlib) (1.15.0)\n",
      "Note: you may need to restart the kernel to use updated packages.\n",
      "Requirement already satisfied: pycountry in /opt/app-root/lib/python3.6/site-packages (22.3.5)\n",
      "Requirement already satisfied: setuptools in /opt/app-root/lib/python3.6/site-packages (from pycountry) (53.0.0)\n",
      "Note: you may need to restart the kernel to use updated packages.\n",
      "Requirement already satisfied: python-dotenv in /opt/app-root/lib/python3.6/site-packages (0.20.0)\n",
      "Note: you may need to restart the kernel to use updated packages.\n",
      "Requirement already satisfied: boto3 in /opt/app-root/lib/python3.6/site-packages (1.23.10)\n",
      "Requirement already satisfied: jmespath<2.0.0,>=0.7.1 in /opt/app-root/lib/python3.6/site-packages (from boto3) (0.10.0)\n",
      "Requirement already satisfied: s3transfer<0.6.0,>=0.5.0 in /opt/app-root/lib/python3.6/site-packages (from boto3) (0.5.2)\n",
      "Requirement already satisfied: botocore<1.27.0,>=1.26.10 in /opt/app-root/lib/python3.6/site-packages (from boto3) (1.26.10)\n",
      "Requirement already satisfied: python-dateutil<3.0.0,>=2.1 in /opt/app-root/lib/python3.6/site-packages (from botocore<1.27.0,>=1.26.10->boto3) (2.8.1)\n",
      "Requirement already satisfied: urllib3<1.27,>=1.25.4 in /opt/app-root/lib/python3.6/site-packages (from botocore<1.27.0,>=1.26.10->boto3) (1.25.11)\n",
      "Requirement already satisfied: six>=1.5 in /opt/app-root/lib/python3.6/site-packages (from python-dateutil<3.0.0,>=2.1->botocore<1.27.0,>=1.26.10->boto3) (1.15.0)\n",
      "Note: you may need to restart the kernel to use updated packages.\n",
      "Requirement already satisfied: trino in /opt/app-root/lib/python3.6/site-packages (0.309.0)\n",
      "Requirement already satisfied: sqlalchemy in /opt/app-root/lib/python3.6/site-packages (1.3.20)\n",
      "\u001b[31mERROR: Could not find a version that satisfies the requirement sqlalchemy-trino (from versions: none)\u001b[0m\n",
      "\u001b[31mERROR: No matching distribution found for sqlalchemy-trino\u001b[0m\n",
      "Note: you may need to restart the kernel to use updated packages.\n",
      "Requirement already satisfied: pandas in /opt/app-root/lib/python3.6/site-packages (1.1.5)\n",
      "Requirement already satisfied: pyarrow in /opt/app-root/lib/python3.6/site-packages (2.0.0)\n",
      "Requirement already satisfied: fastparquet in /opt/app-root/lib/python3.6/site-packages (0.8.0)\n",
      "Requirement already satisfied: pytz>=2017.2 in /opt/app-root/lib/python3.6/site-packages (from pandas) (2020.4)\n",
      "Requirement already satisfied: numpy>=1.15.4 in /opt/app-root/lib/python3.6/site-packages (from pandas) (1.19.4)\n",
      "Requirement already satisfied: python-dateutil>=2.7.3 in /opt/app-root/lib/python3.6/site-packages (from pandas) (2.8.1)\n",
      "Requirement already satisfied: fsspec in /opt/app-root/lib/python3.6/site-packages (from fastparquet) (0.8.4)\n",
      "Requirement already satisfied: cramjam>=2.3.0 in /opt/app-root/lib/python3.6/site-packages (from fastparquet) (2.5.0)\n",
      "Requirement already satisfied: six>=1.5 in /opt/app-root/lib/python3.6/site-packages (from python-dateutil>=2.7.3->pandas) (1.15.0)\n",
      "Note: you may need to restart the kernel to use updated packages.\n",
      "Requirement already satisfied: osc-ingest-tools in /opt/app-root/lib/python3.6/site-packages (0.4.3)\n",
      "Requirement already satisfied: pandas in /opt/app-root/lib/python3.6/site-packages (from osc-ingest-tools) (1.1.5)\n",
      "Requirement already satisfied: trino[sqlalchemy] in /opt/app-root/lib/python3.6/site-packages (from osc-ingest-tools) (0.309.0)\n",
      "Requirement already satisfied: boto3 in /opt/app-root/lib/python3.6/site-packages (from osc-ingest-tools) (1.23.10)\n",
      "Requirement already satisfied: sqlalchemy in /opt/app-root/lib/python3.6/site-packages (from osc-ingest-tools) (1.3.20)\n",
      "Requirement already satisfied: python-dotenv in /opt/app-root/lib/python3.6/site-packages (from osc-ingest-tools) (0.20.0)\n",
      "Requirement already satisfied: jmespath<2.0.0,>=0.7.1 in /opt/app-root/lib/python3.6/site-packages (from boto3->osc-ingest-tools) (0.10.0)\n",
      "Requirement already satisfied: s3transfer<0.6.0,>=0.5.0 in /opt/app-root/lib/python3.6/site-packages (from boto3->osc-ingest-tools) (0.5.2)\n",
      "Requirement already satisfied: botocore<1.27.0,>=1.26.10 in /opt/app-root/lib/python3.6/site-packages (from boto3->osc-ingest-tools) (1.26.10)\n",
      "Requirement already satisfied: numpy>=1.15.4 in /opt/app-root/lib/python3.6/site-packages (from pandas->osc-ingest-tools) (1.19.4)\n",
      "Requirement already satisfied: pytz>=2017.2 in /opt/app-root/lib/python3.6/site-packages (from pandas->osc-ingest-tools) (2020.4)\n",
      "Requirement already satisfied: python-dateutil>=2.7.3 in /opt/app-root/lib/python3.6/site-packages (from pandas->osc-ingest-tools) (2.8.1)\n",
      "Requirement already satisfied: requests in /opt/app-root/lib/python3.6/site-packages (from trino[sqlalchemy]->osc-ingest-tools) (2.25.1)\n",
      "Requirement already satisfied: urllib3<1.27,>=1.25.4 in /opt/app-root/lib/python3.6/site-packages (from botocore<1.27.0,>=1.26.10->boto3->osc-ingest-tools) (1.25.11)\n",
      "Requirement already satisfied: six>=1.5 in /opt/app-root/lib/python3.6/site-packages (from python-dateutil>=2.7.3->pandas->osc-ingest-tools) (1.15.0)\n",
      "Requirement already satisfied: idna<3,>=2.5 in /opt/app-root/lib/python3.6/site-packages (from requests->trino[sqlalchemy]->osc-ingest-tools) (2.10)\n",
      "Requirement already satisfied: chardet<5,>=3.0.2 in /opt/app-root/lib/python3.6/site-packages (from requests->trino[sqlalchemy]->osc-ingest-tools) (3.0.4)\n",
      "Requirement already satisfied: certifi>=2017.4.17 in /opt/app-root/lib/python3.6/site-packages (from requests->trino[sqlalchemy]->osc-ingest-tools) (2020.12.5)\n",
      "Note: you may need to restart the kernel to use updated packages.\n",
      "Requirement already satisfied: openpyxl in /opt/app-root/lib/python3.6/site-packages (3.1.3)\n",
      "Requirement already satisfied: et-xmlfile in /opt/app-root/lib/python3.6/site-packages (from openpyxl) (1.1.0)\n",
      "Note: you may need to restart the kernel to use updated packages.\n",
      "Requirement already satisfied: country_converter in /opt/app-root/lib/python3.6/site-packages (0.8.0)\n",
      "Requirement already satisfied: pandas>=1.0 in /opt/app-root/lib/python3.6/site-packages (from country_converter) (1.1.5)\n",
      "Requirement already satisfied: numpy>=1.15.4 in /opt/app-root/lib/python3.6/site-packages (from pandas>=1.0->country_converter) (1.19.4)\n",
      "Requirement already satisfied: python-dateutil>=2.7.3 in /opt/app-root/lib/python3.6/site-packages (from pandas>=1.0->country_converter) (2.8.1)\n",
      "Requirement already satisfied: pytz>=2017.2 in /opt/app-root/lib/python3.6/site-packages (from pandas>=1.0->country_converter) (2020.4)\n",
      "Requirement already satisfied: six>=1.5 in /opt/app-root/lib/python3.6/site-packages (from python-dateutil>=2.7.3->pandas>=1.0->country_converter) (1.15.0)\n",
      "Note: you may need to restart the kernel to use updated packages.\n",
      "Requirement already satisfied: pint_pandas in /opt/app-root/lib/python3.6/site-packages (0.1)\n",
      "Requirement already satisfied: pint>=0.13 in /opt/app-root/lib/python3.6/site-packages (from pint_pandas) (0.17)\n",
      "Requirement already satisfied: pandas>=1.0.4 in /opt/app-root/lib/python3.6/site-packages (from pint_pandas) (1.1.5)\n",
      "Requirement already satisfied: python-dateutil>=2.7.3 in /opt/app-root/lib/python3.6/site-packages (from pandas>=1.0.4->pint_pandas) (2.8.1)\n",
      "Requirement already satisfied: pytz>=2017.2 in /opt/app-root/lib/python3.6/site-packages (from pandas>=1.0.4->pint_pandas) (2020.4)\n",
      "Requirement already satisfied: numpy>=1.15.4 in /opt/app-root/lib/python3.6/site-packages (from pandas>=1.0.4->pint_pandas) (1.19.4)\n",
      "Requirement already satisfied: importlib-resources in /opt/app-root/lib/python3.6/site-packages (from pint>=0.13->pint_pandas) (5.1.0)\n",
      "Requirement already satisfied: packaging in /opt/app-root/lib/python3.6/site-packages (from pint>=0.13->pint_pandas) (20.4)\n",
      "Requirement already satisfied: importlib-metadata in /opt/app-root/lib/python3.6/site-packages (from pint>=0.13->pint_pandas) (2.0.0)\n",
      "Requirement already satisfied: six>=1.5 in /opt/app-root/lib/python3.6/site-packages (from python-dateutil>=2.7.3->pandas>=1.0.4->pint_pandas) (1.15.0)\n",
      "Requirement already satisfied: zipp>=0.5 in /opt/app-root/lib/python3.6/site-packages (from importlib-metadata->pint>=0.13->pint_pandas) (3.4.0)\n",
      "Requirement already satisfied: pyparsing>=2.0.2 in /opt/app-root/lib/python3.6/site-packages (from packaging->pint>=0.13->pint_pandas) (2.4.7)\n",
      "Note: you may need to restart the kernel to use updated packages.\n",
      "Requirement already satisfied: openscm_units in /opt/app-root/lib/python3.6/site-packages (0.5.2)\n",
      "Requirement already satisfied: globalwarmingpotentials in /opt/app-root/lib/python3.6/site-packages (from openscm_units) (0.11.1)\n",
      "Requirement already satisfied: pandas in /opt/app-root/lib/python3.6/site-packages (from openscm_units) (1.1.5)\n",
      "Requirement already satisfied: pint in /opt/app-root/lib/python3.6/site-packages (from openscm_units) (0.17)\n",
      "Requirement already satisfied: python-dateutil>=2.7.3 in /opt/app-root/lib/python3.6/site-packages (from pandas->openscm_units) (2.8.1)\n",
      "Requirement already satisfied: numpy>=1.15.4 in /opt/app-root/lib/python3.6/site-packages (from pandas->openscm_units) (1.19.4)\n",
      "Requirement already satisfied: pytz>=2017.2 in /opt/app-root/lib/python3.6/site-packages (from pandas->openscm_units) (2020.4)\n",
      "Requirement already satisfied: importlib-resources in /opt/app-root/lib/python3.6/site-packages (from pint->openscm_units) (5.1.0)\n",
      "Requirement already satisfied: packaging in /opt/app-root/lib/python3.6/site-packages (from pint->openscm_units) (20.4)\n",
      "Requirement already satisfied: importlib-metadata in /opt/app-root/lib/python3.6/site-packages (from pint->openscm_units) (2.0.0)\n",
      "Requirement already satisfied: six>=1.5 in /opt/app-root/lib/python3.6/site-packages (from python-dateutil>=2.7.3->pandas->openscm_units) (1.15.0)\n",
      "Requirement already satisfied: zipp>=0.5 in /opt/app-root/lib/python3.6/site-packages (from importlib-metadata->pint->openscm_units) (3.4.0)\n",
      "Requirement already satisfied: pyparsing>=2.0.2 in /opt/app-root/lib/python3.6/site-packages (from packaging->pint->openscm_units) (2.4.7)\n",
      "Note: you may need to restart the kernel to use updated packages.\n",
      "Requirement already satisfied: pint in /opt/app-root/lib/python3.6/site-packages (0.17)\n",
      "Requirement already satisfied: importlib-metadata in /opt/app-root/lib/python3.6/site-packages (from pint) (2.0.0)\n",
      "Requirement already satisfied: importlib-resources in /opt/app-root/lib/python3.6/site-packages (from pint) (5.1.0)\n",
      "Requirement already satisfied: packaging in /opt/app-root/lib/python3.6/site-packages (from pint) (20.4)\n",
      "Requirement already satisfied: zipp>=0.5 in /opt/app-root/lib/python3.6/site-packages (from importlib-metadata->pint) (3.4.0)\n",
      "Requirement already satisfied: pyparsing>=2.0.2 in /opt/app-root/lib/python3.6/site-packages (from packaging->pint) (2.4.7)\n",
      "Requirement already satisfied: six in /opt/app-root/lib/python3.6/site-packages (from packaging->pint) (1.15.0)\n",
      "Note: you may need to restart the kernel to use updated packages.\n",
      "Requirement already satisfied: tzlocal in /opt/app-root/lib/python3.6/site-packages (4.2)\n",
      "Requirement already satisfied: backports.zoneinfo in /opt/app-root/lib/python3.6/site-packages (from tzlocal) (0.2.1)\n",
      "Requirement already satisfied: pytz-deprecation-shim in /opt/app-root/lib/python3.6/site-packages (from tzlocal) (0.1.0.post0)\n",
      "Requirement already satisfied: importlib-resources in /opt/app-root/lib/python3.6/site-packages (from backports.zoneinfo->tzlocal) (5.1.0)\n",
      "Requirement already satisfied: tzdata in /opt/app-root/lib/python3.6/site-packages (from pytz-deprecation-shim->tzlocal) (2024.1)\n",
      "Requirement already satisfied: zipp>=0.4 in /opt/app-root/lib/python3.6/site-packages (from importlib-resources->backports.zoneinfo->tzlocal) (3.4.0)\n",
      "Note: you may need to restart the kernel to use updated packages.\n",
      "\u001b[31mERROR: Could not find a version that satisfies the requirement pint==0.20.1 (from versions: 0.1, 0.1.1, 0.1.2, 0.1.3, 0.2, 0.2.1, 0.3, 0.3.1, 0.3.2, 0.3.3, 0.4, 0.4.1, 0.4.2, 0.5, 0.5.1, 0.5.2, 0.6, 0.7, 0.7.1, 0.7.2, 0.8, 0.8.1, 0.9, 0.10, 0.10.1, 0.11, 0.12, 0.13, 0.14, 0.15, 0.16, 0.16.1, 0.17)\u001b[0m\n",
      "\u001b[31mERROR: No matching distribution found for pint==0.20.1\u001b[0m\n",
      "Note: you may need to restart the kernel to use updated packages.\n",
      "\u001b[31mERROR: Could not find a version that satisfies the requirement pint_pandas==0.3 (from versions: 0.1, 0.2)\u001b[0m\n",
      "\u001b[31mERROR: No matching distribution found for pint_pandas==0.3\u001b[0m\n",
      "Note: you may need to restart the kernel to use updated packages.\n"
     ]
    },
    {
     "ename": "DefinitionSyntaxError",
     "evalue": "While opening <string>: Only one unit per dimension can be a base unit",
     "output_type": "error",
     "traceback": [
      "Traceback \u001b[0;36m(most recent call last)\u001b[0m:\n",
      "  File \u001b[1;32m\"/opt/app-root/lib/python3.6/site-packages/IPython/core/interactiveshell.py\"\u001b[0m, line \u001b[1;32m3343\u001b[0m, in \u001b[1;35mrun_code\u001b[0m\n    exec(code_obj, self.user_global_ns, self.user_ns)\n",
      "  File \u001b[1;32m\"<ipython-input-2-dc5de60ea847>\"\u001b[0m, line \u001b[1;32m10\u001b[0m, in \u001b[1;35m<module>\u001b[0m\n    ureg.define(\"USD = [currency] \")\n",
      "  File \u001b[1;32m\"/opt/app-root/lib/python3.6/site-packages/pint/registry.py\"\u001b[0m, line \u001b[1;32m365\u001b[0m, in \u001b[1;35mdefine\u001b[0m\n    self._define(Definition.from_string(line, self.non_int_type))\n",
      "  File \u001b[1;32m\"/opt/app-root/lib/python3.6/site-packages/pint/registry.py\"\u001b[0m, line \u001b[1;32m1995\u001b[0m, in \u001b[1;35m_define\u001b[0m\n    definition, d, di = super()._define(definition)\n",
      "  File \u001b[1;32m\"/opt/app-root/lib/python3.6/site-packages/pint/registry.py\"\u001b[0m, line \u001b[1;32m1326\u001b[0m, in \u001b[1;35m_define\u001b[0m\n    definition, d, di = super()._define(definition)\n",
      "\u001b[0;36m  File \u001b[0;32m\"/opt/app-root/lib/python3.6/site-packages/pint/registry.py\"\u001b[0;36m, line \u001b[0;32m400\u001b[0;36m, in \u001b[0;35m_define\u001b[0;36m\u001b[0m\n\u001b[0;31m    \"Only one unit per dimension can be a base unit\"\u001b[0m\n",
      "\u001b[0;36m  File \u001b[0;32m\"<string>\"\u001b[0;36m, line \u001b[0;32munknown\u001b[0m\n\u001b[0;31mDefinitionSyntaxError\u001b[0m\u001b[0;31m:\u001b[0m Only one unit per dimension can be a base unit\n"
     ]
    },
    {
     "ename": "DefinitionSyntaxError",
     "evalue": "While opening <string>: Only one unit per dimension can be a base unit",
     "output_type": "error",
     "traceback": [
      "Traceback \u001b[0;36m(most recent call last)\u001b[0m:\n",
      "  File \u001b[1;32m\"/opt/app-root/lib/python3.6/site-packages/IPython/core/interactiveshell.py\"\u001b[0m, line \u001b[1;32m3343\u001b[0m, in \u001b[1;35mrun_code\u001b[0m\n    exec(code_obj, self.user_global_ns, self.user_ns)\n",
      "  File \u001b[1;32m\"<ipython-input-2-8edf5e07394f>\"\u001b[0m, line \u001b[1;32m1\u001b[0m, in \u001b[1;35m<module>\u001b[0m\n    get_ipython().run_line_magic('run', './PCAF-init-requirements.ipynb')\n",
      "  File \u001b[1;32m\"/opt/app-root/lib/python3.6/site-packages/IPython/core/interactiveshell.py\"\u001b[0m, line \u001b[1;32m2326\u001b[0m, in \u001b[1;35mrun_line_magic\u001b[0m\n    result = fn(*args, **kwargs)\n",
      "  File \u001b[1;32m\"<decorator-gen-59>\"\u001b[0m, line \u001b[1;32m2\u001b[0m, in \u001b[1;35mrun\u001b[0m\n",
      "  File \u001b[1;32m\"/opt/app-root/lib/python3.6/site-packages/IPython/core/magic.py\"\u001b[0m, line \u001b[1;32m187\u001b[0m, in \u001b[1;35m<lambda>\u001b[0m\n    call = lambda f, *a, **k: f(*a, **k)\n",
      "  File \u001b[1;32m\"/opt/app-root/lib/python3.6/site-packages/IPython/core/magics/execution.py\"\u001b[0m, line \u001b[1;32m718\u001b[0m, in \u001b[1;35mrun\u001b[0m\n    self.shell.safe_execfile_ipy(filename, raise_exceptions=True)\n",
      "  File \u001b[1;32m\"/opt/app-root/lib/python3.6/site-packages/IPython/core/interactiveshell.py\"\u001b[0m, line \u001b[1;32m2803\u001b[0m, in \u001b[1;35msafe_execfile_ipy\u001b[0m\n    result.raise_error()\n",
      "  File \u001b[1;32m\"/opt/app-root/lib/python3.6/site-packages/IPython/core/interactiveshell.py\"\u001b[0m, line \u001b[1;32m331\u001b[0m, in \u001b[1;35mraise_error\u001b[0m\n    raise self.error_in_exec\n",
      "  File \u001b[1;32m\"/opt/app-root/lib/python3.6/site-packages/IPython/core/interactiveshell.py\"\u001b[0m, line \u001b[1;32m3343\u001b[0m, in \u001b[1;35mrun_code\u001b[0m\n    exec(code_obj, self.user_global_ns, self.user_ns)\n",
      "  File \u001b[1;32m\"<ipython-input-2-dc5de60ea847>\"\u001b[0m, line \u001b[1;32m10\u001b[0m, in \u001b[1;35m<module>\u001b[0m\n    ureg.define(\"USD = [currency] \")\n",
      "  File \u001b[1;32m\"/opt/app-root/lib/python3.6/site-packages/pint/registry.py\"\u001b[0m, line \u001b[1;32m365\u001b[0m, in \u001b[1;35mdefine\u001b[0m\n    self._define(Definition.from_string(line, self.non_int_type))\n",
      "  File \u001b[1;32m\"/opt/app-root/lib/python3.6/site-packages/pint/registry.py\"\u001b[0m, line \u001b[1;32m1995\u001b[0m, in \u001b[1;35m_define\u001b[0m\n    definition, d, di = super()._define(definition)\n",
      "  File \u001b[1;32m\"/opt/app-root/lib/python3.6/site-packages/pint/registry.py\"\u001b[0m, line \u001b[1;32m1326\u001b[0m, in \u001b[1;35m_define\u001b[0m\n    definition, d, di = super()._define(definition)\n",
      "\u001b[0;36m  File \u001b[0;32m\"/opt/app-root/lib/python3.6/site-packages/pint/registry.py\"\u001b[0;36m, line \u001b[0;32m400\u001b[0;36m, in \u001b[0;35m_define\u001b[0;36m\u001b[0m\n\u001b[0;31m    \"Only one unit per dimension can be a base unit\"\u001b[0m\n",
      "\u001b[0;36m  File \u001b[0;32m\"<string>\"\u001b[0;36m, line \u001b[0;32munknown\u001b[0m\n\u001b[0;31mDefinitionSyntaxError\u001b[0m\u001b[0;31m:\u001b[0m Only one unit per dimension can be a base unit\n"
     ]
    }
   ],
   "source": [
    "%run ./PCAF-init-requirements.ipynb"
   ]
  },
  {
   "cell_type": "code",
   "execution_count": 4,
   "id": "82c1a41e",
   "metadata": {
    "collapsed": true,
    "jupyter": {
     "outputs_hidden": true
    },
    "tags": []
   },
   "outputs": [
    {
     "ename": "AttributeError",
     "evalue": "'Engine' object has no attribute 'execute'",
     "output_type": "error",
     "traceback": [
      "\u001b[0;31m---------------------------------------------------------------------------\u001b[0m",
      "\u001b[0;31mAttributeError\u001b[0m                            Traceback (most recent call last)",
      "\u001b[0;32m~/PCAF-sovereign-footprint/notebooks/WDI-GDP-ingest.ipynb\u001b[0m in \u001b[0;36m<module>\u001b[0;34m\u001b[0m\n\u001b[1;32m      1\u001b[0m \u001b[0;31m# Show available schemas to ensure trino connection is set correctly\u001b[0m\u001b[0;34m\u001b[0m\u001b[0;34m\u001b[0m\u001b[0;34m\u001b[0m\u001b[0m\n\u001b[0;32m----> 2\u001b[0;31m \u001b[0mschema_read\u001b[0m \u001b[0;34m=\u001b[0m \u001b[0mengine\u001b[0m\u001b[0;34m.\u001b[0m\u001b[0mexecute\u001b[0m\u001b[0;34m(\u001b[0m\u001b[0;34mf'show schemas in {ingest_catalog}'\u001b[0m\u001b[0;34m)\u001b[0m\u001b[0;34m\u001b[0m\u001b[0;34m\u001b[0m\u001b[0m\n\u001b[0m\u001b[1;32m      3\u001b[0m \u001b[0;32mfor\u001b[0m \u001b[0mrow\u001b[0m \u001b[0;32min\u001b[0m \u001b[0mschema_read\u001b[0m\u001b[0;34m.\u001b[0m\u001b[0mfetchall\u001b[0m\u001b[0;34m(\u001b[0m\u001b[0;34m)\u001b[0m\u001b[0;34m:\u001b[0m\u001b[0;34m\u001b[0m\u001b[0;34m\u001b[0m\u001b[0m\n\u001b[1;32m      4\u001b[0m     \u001b[0mprint\u001b[0m\u001b[0;34m(\u001b[0m\u001b[0mrow\u001b[0m\u001b[0;34m)\u001b[0m\u001b[0;34m\u001b[0m\u001b[0;34m\u001b[0m\u001b[0m\n",
      "\u001b[0;31mAttributeError\u001b[0m: 'Engine' object has no attribute 'execute'"
     ]
    },
    {
     "ename": "AttributeError",
     "evalue": "'Engine' object has no attribute 'execute'",
     "output_type": "error",
     "traceback": [
      "\u001b[0;31m---------------------------------------------------------------------------\u001b[0m",
      "\u001b[0;31mAttributeError\u001b[0m                            Traceback (most recent call last)",
      "\u001b[0;32m<ipython-input-4-f1836c27a28e>\u001b[0m in \u001b[0;36m<module>\u001b[0;34m\u001b[0m\n\u001b[0;32m----> 1\u001b[0;31m \u001b[0mget_ipython\u001b[0m\u001b[0;34m(\u001b[0m\u001b[0;34m)\u001b[0m\u001b[0;34m.\u001b[0m\u001b[0mrun_line_magic\u001b[0m\u001b[0;34m(\u001b[0m\u001b[0;34m'run'\u001b[0m\u001b[0;34m,\u001b[0m \u001b[0;34m'./WDI-GDP-ingest.ipynb'\u001b[0m\u001b[0;34m)\u001b[0m\u001b[0;34m\u001b[0m\u001b[0;34m\u001b[0m\u001b[0m\n\u001b[0m",
      "\u001b[0;32m/opt/app-root/lib64/python3.8/site-packages/IPython/core/interactiveshell.py\u001b[0m in \u001b[0;36mrun_line_magic\u001b[0;34m(self, magic_name, line, _stack_depth)\u001b[0m\n\u001b[1;32m   2346\u001b[0m                 \u001b[0mkwargs\u001b[0m\u001b[0;34m[\u001b[0m\u001b[0;34m'local_ns'\u001b[0m\u001b[0;34m]\u001b[0m \u001b[0;34m=\u001b[0m \u001b[0mself\u001b[0m\u001b[0;34m.\u001b[0m\u001b[0mget_local_scope\u001b[0m\u001b[0;34m(\u001b[0m\u001b[0mstack_depth\u001b[0m\u001b[0;34m)\u001b[0m\u001b[0;34m\u001b[0m\u001b[0;34m\u001b[0m\u001b[0m\n\u001b[1;32m   2347\u001b[0m             \u001b[0;32mwith\u001b[0m \u001b[0mself\u001b[0m\u001b[0;34m.\u001b[0m\u001b[0mbuiltin_trap\u001b[0m\u001b[0;34m:\u001b[0m\u001b[0;34m\u001b[0m\u001b[0;34m\u001b[0m\u001b[0m\n\u001b[0;32m-> 2348\u001b[0;31m                 \u001b[0mresult\u001b[0m \u001b[0;34m=\u001b[0m \u001b[0mfn\u001b[0m\u001b[0;34m(\u001b[0m\u001b[0;34m*\u001b[0m\u001b[0margs\u001b[0m\u001b[0;34m,\u001b[0m \u001b[0;34m**\u001b[0m\u001b[0mkwargs\u001b[0m\u001b[0;34m)\u001b[0m\u001b[0;34m\u001b[0m\u001b[0;34m\u001b[0m\u001b[0m\n\u001b[0m\u001b[1;32m   2349\u001b[0m             \u001b[0;32mreturn\u001b[0m \u001b[0mresult\u001b[0m\u001b[0;34m\u001b[0m\u001b[0;34m\u001b[0m\u001b[0m\n\u001b[1;32m   2350\u001b[0m \u001b[0;34m\u001b[0m\u001b[0m\n",
      "\u001b[0;32m<decorator-gen-52>\u001b[0m in \u001b[0;36mrun\u001b[0;34m(self, parameter_s, runner, file_finder)\u001b[0m\n",
      "\u001b[0;32m/opt/app-root/lib64/python3.8/site-packages/IPython/core/magic.py\u001b[0m in \u001b[0;36m<lambda>\u001b[0;34m(f, *a, **k)\u001b[0m\n\u001b[1;32m    185\u001b[0m     \u001b[0;31m# but it's overkill for just that one bit of state.\u001b[0m\u001b[0;34m\u001b[0m\u001b[0;34m\u001b[0m\u001b[0;34m\u001b[0m\u001b[0m\n\u001b[1;32m    186\u001b[0m     \u001b[0;32mdef\u001b[0m \u001b[0mmagic_deco\u001b[0m\u001b[0;34m(\u001b[0m\u001b[0marg\u001b[0m\u001b[0;34m)\u001b[0m\u001b[0;34m:\u001b[0m\u001b[0;34m\u001b[0m\u001b[0;34m\u001b[0m\u001b[0m\n\u001b[0;32m--> 187\u001b[0;31m         \u001b[0mcall\u001b[0m \u001b[0;34m=\u001b[0m \u001b[0;32mlambda\u001b[0m \u001b[0mf\u001b[0m\u001b[0;34m,\u001b[0m \u001b[0;34m*\u001b[0m\u001b[0ma\u001b[0m\u001b[0;34m,\u001b[0m \u001b[0;34m**\u001b[0m\u001b[0mk\u001b[0m\u001b[0;34m:\u001b[0m \u001b[0mf\u001b[0m\u001b[0;34m(\u001b[0m\u001b[0;34m*\u001b[0m\u001b[0ma\u001b[0m\u001b[0;34m,\u001b[0m \u001b[0;34m**\u001b[0m\u001b[0mk\u001b[0m\u001b[0;34m)\u001b[0m\u001b[0;34m\u001b[0m\u001b[0;34m\u001b[0m\u001b[0m\n\u001b[0m\u001b[1;32m    188\u001b[0m \u001b[0;34m\u001b[0m\u001b[0m\n\u001b[1;32m    189\u001b[0m         \u001b[0;32mif\u001b[0m \u001b[0mcallable\u001b[0m\u001b[0;34m(\u001b[0m\u001b[0marg\u001b[0m\u001b[0;34m)\u001b[0m\u001b[0;34m:\u001b[0m\u001b[0;34m\u001b[0m\u001b[0;34m\u001b[0m\u001b[0m\n",
      "\u001b[0;32m/opt/app-root/lib64/python3.8/site-packages/IPython/core/magics/execution.py\u001b[0m in \u001b[0;36mrun\u001b[0;34m(self, parameter_s, runner, file_finder)\u001b[0m\n\u001b[1;32m    722\u001b[0m             \u001b[0;32mwith\u001b[0m \u001b[0mpreserve_keys\u001b[0m\u001b[0;34m(\u001b[0m\u001b[0mself\u001b[0m\u001b[0;34m.\u001b[0m\u001b[0mshell\u001b[0m\u001b[0;34m.\u001b[0m\u001b[0muser_ns\u001b[0m\u001b[0;34m,\u001b[0m \u001b[0;34m'__file__'\u001b[0m\u001b[0;34m)\u001b[0m\u001b[0;34m:\u001b[0m\u001b[0;34m\u001b[0m\u001b[0;34m\u001b[0m\u001b[0m\n\u001b[1;32m    723\u001b[0m                 \u001b[0mself\u001b[0m\u001b[0;34m.\u001b[0m\u001b[0mshell\u001b[0m\u001b[0;34m.\u001b[0m\u001b[0muser_ns\u001b[0m\u001b[0;34m[\u001b[0m\u001b[0;34m'__file__'\u001b[0m\u001b[0;34m]\u001b[0m \u001b[0;34m=\u001b[0m \u001b[0mfilename\u001b[0m\u001b[0;34m\u001b[0m\u001b[0;34m\u001b[0m\u001b[0m\n\u001b[0;32m--> 724\u001b[0;31m                 \u001b[0mself\u001b[0m\u001b[0;34m.\u001b[0m\u001b[0mshell\u001b[0m\u001b[0;34m.\u001b[0m\u001b[0msafe_execfile_ipy\u001b[0m\u001b[0;34m(\u001b[0m\u001b[0mfilename\u001b[0m\u001b[0;34m,\u001b[0m \u001b[0mraise_exceptions\u001b[0m\u001b[0;34m=\u001b[0m\u001b[0;32mTrue\u001b[0m\u001b[0;34m)\u001b[0m\u001b[0;34m\u001b[0m\u001b[0;34m\u001b[0m\u001b[0m\n\u001b[0m\u001b[1;32m    725\u001b[0m             \u001b[0;32mreturn\u001b[0m\u001b[0;34m\u001b[0m\u001b[0;34m\u001b[0m\u001b[0m\n\u001b[1;32m    726\u001b[0m \u001b[0;34m\u001b[0m\u001b[0m\n",
      "\u001b[0;32m/opt/app-root/lib64/python3.8/site-packages/IPython/core/interactiveshell.py\u001b[0m in \u001b[0;36msafe_execfile_ipy\u001b[0;34m(self, fname, shell_futures, raise_exceptions)\u001b[0m\n\u001b[1;32m   2833\u001b[0m                     \u001b[0mresult\u001b[0m \u001b[0;34m=\u001b[0m \u001b[0mself\u001b[0m\u001b[0;34m.\u001b[0m\u001b[0mrun_cell\u001b[0m\u001b[0;34m(\u001b[0m\u001b[0mcell\u001b[0m\u001b[0;34m,\u001b[0m \u001b[0msilent\u001b[0m\u001b[0;34m=\u001b[0m\u001b[0;32mTrue\u001b[0m\u001b[0;34m,\u001b[0m \u001b[0mshell_futures\u001b[0m\u001b[0;34m=\u001b[0m\u001b[0mshell_futures\u001b[0m\u001b[0;34m)\u001b[0m\u001b[0;34m\u001b[0m\u001b[0;34m\u001b[0m\u001b[0m\n\u001b[1;32m   2834\u001b[0m                     \u001b[0;32mif\u001b[0m \u001b[0mraise_exceptions\u001b[0m\u001b[0;34m:\u001b[0m\u001b[0;34m\u001b[0m\u001b[0;34m\u001b[0m\u001b[0m\n\u001b[0;32m-> 2835\u001b[0;31m                         \u001b[0mresult\u001b[0m\u001b[0;34m.\u001b[0m\u001b[0mraise_error\u001b[0m\u001b[0;34m(\u001b[0m\u001b[0;34m)\u001b[0m\u001b[0;34m\u001b[0m\u001b[0;34m\u001b[0m\u001b[0m\n\u001b[0m\u001b[1;32m   2836\u001b[0m                     \u001b[0;32melif\u001b[0m \u001b[0;32mnot\u001b[0m \u001b[0mresult\u001b[0m\u001b[0;34m.\u001b[0m\u001b[0msuccess\u001b[0m\u001b[0;34m:\u001b[0m\u001b[0;34m\u001b[0m\u001b[0;34m\u001b[0m\u001b[0m\n\u001b[1;32m   2837\u001b[0m                         \u001b[0;32mbreak\u001b[0m\u001b[0;34m\u001b[0m\u001b[0;34m\u001b[0m\u001b[0m\n",
      "\u001b[0;32m/opt/app-root/lib64/python3.8/site-packages/IPython/core/interactiveshell.py\u001b[0m in \u001b[0;36mraise_error\u001b[0;34m(self)\u001b[0m\n\u001b[1;32m    329\u001b[0m             \u001b[0;32mraise\u001b[0m \u001b[0mself\u001b[0m\u001b[0;34m.\u001b[0m\u001b[0merror_before_exec\u001b[0m\u001b[0;34m\u001b[0m\u001b[0;34m\u001b[0m\u001b[0m\n\u001b[1;32m    330\u001b[0m         \u001b[0;32mif\u001b[0m \u001b[0mself\u001b[0m\u001b[0;34m.\u001b[0m\u001b[0merror_in_exec\u001b[0m \u001b[0;32mis\u001b[0m \u001b[0;32mnot\u001b[0m \u001b[0;32mNone\u001b[0m\u001b[0;34m:\u001b[0m\u001b[0;34m\u001b[0m\u001b[0;34m\u001b[0m\u001b[0m\n\u001b[0;32m--> 331\u001b[0;31m             \u001b[0;32mraise\u001b[0m \u001b[0mself\u001b[0m\u001b[0;34m.\u001b[0m\u001b[0merror_in_exec\u001b[0m\u001b[0;34m\u001b[0m\u001b[0;34m\u001b[0m\u001b[0m\n\u001b[0m\u001b[1;32m    332\u001b[0m \u001b[0;34m\u001b[0m\u001b[0m\n\u001b[1;32m    333\u001b[0m     \u001b[0;32mdef\u001b[0m \u001b[0m__repr__\u001b[0m\u001b[0;34m(\u001b[0m\u001b[0mself\u001b[0m\u001b[0;34m)\u001b[0m\u001b[0;34m:\u001b[0m\u001b[0;34m\u001b[0m\u001b[0;34m\u001b[0m\u001b[0m\n",
      "    \u001b[0;31m[... skipping hidden 1 frame]\u001b[0m\n",
      "\u001b[0;32m<ipython-input-4-b08603cc3652>\u001b[0m in \u001b[0;36m<module>\u001b[0;34m\u001b[0m\n\u001b[1;32m      1\u001b[0m \u001b[0;31m# Show available schemas to ensure trino connection is set correctly\u001b[0m\u001b[0;34m\u001b[0m\u001b[0;34m\u001b[0m\u001b[0;34m\u001b[0m\u001b[0m\n\u001b[0;32m----> 2\u001b[0;31m \u001b[0mschema_read\u001b[0m \u001b[0;34m=\u001b[0m \u001b[0mengine\u001b[0m\u001b[0;34m.\u001b[0m\u001b[0mexecute\u001b[0m\u001b[0;34m(\u001b[0m\u001b[0;34mf'show schemas in {ingest_catalog}'\u001b[0m\u001b[0;34m)\u001b[0m\u001b[0;34m\u001b[0m\u001b[0;34m\u001b[0m\u001b[0m\n\u001b[0m\u001b[1;32m      3\u001b[0m \u001b[0;32mfor\u001b[0m \u001b[0mrow\u001b[0m \u001b[0;32min\u001b[0m \u001b[0mschema_read\u001b[0m\u001b[0;34m.\u001b[0m\u001b[0mfetchall\u001b[0m\u001b[0;34m(\u001b[0m\u001b[0;34m)\u001b[0m\u001b[0;34m:\u001b[0m\u001b[0;34m\u001b[0m\u001b[0;34m\u001b[0m\u001b[0m\n\u001b[1;32m      4\u001b[0m     \u001b[0mprint\u001b[0m\u001b[0;34m(\u001b[0m\u001b[0mrow\u001b[0m\u001b[0;34m)\u001b[0m\u001b[0;34m\u001b[0m\u001b[0;34m\u001b[0m\u001b[0m\n",
      "\u001b[0;31mAttributeError\u001b[0m: 'Engine' object has no attribute 'execute'"
     ]
    }
   ],
   "source": [
    "%run ./WDI-GDP-ingest.ipynb"
   ]
  },
  {
   "cell_type": "code",
   "execution_count": null,
   "id": "6e431c8b",
   "metadata": {
    "tags": []
   },
   "outputs": [],
   "source": [
    "%run ./UNFCCC-GHG-total-without-LULUCF.ipynb"
   ]
  },
  {
   "cell_type": "code",
   "execution_count": null,
   "id": "c3b93d45",
   "metadata": {
    "tags": []
   },
   "outputs": [],
   "source": [
    "%run ./UNFCCC-GHG-total-with-LULUCF.ipynb"
   ]
  },
  {
   "cell_type": "code",
   "execution_count": null,
   "id": "e2238834",
   "metadata": {
    "tags": []
   },
   "outputs": [],
   "source": [
    "#%run ./PRIMAP-ingest.ipynb\n",
    "%run ./PRIMAP_with_LULUCF-ingest.ipynb\n",
    "%run ./PRIMAP_without_LULUCF-ingest.ipynb"
   ]
  },
  {
   "cell_type": "code",
   "execution_count": null,
   "id": "48e418d2",
   "metadata": {
    "tags": []
   },
   "outputs": [],
   "source": [
    "#Calculate GHG Intensity per GDP, PPP\n",
    "%run ./calc_UNFCCC_sovereign_emissions.ipynb"
   ]
  },
  {
   "cell_type": "code",
   "execution_count": null,
   "id": "899bd36e",
   "metadata": {
    "tags": []
   },
   "outputs": [],
   "source": [
    "%run ./OECD-IMGR-FCO2-ingest.ipynb"
   ]
  },
  {
   "cell_type": "code",
   "execution_count": null,
   "id": "d6c0dbfe",
   "metadata": {
    "tags": []
   },
   "outputs": [],
   "source": [
    "%run ./OECD-EXGR-DCO2-ingest.ipynb"
   ]
  },
  {
   "cell_type": "code",
   "execution_count": null,
   "id": "9dee7b47",
   "metadata": {
    "tags": []
   },
   "outputs": [],
   "source": [
    "%run ./OECD-EXCH-ingest.ipynb"
   ]
  },
  {
   "cell_type": "code",
   "execution_count": null,
   "id": "0065f5ae",
   "metadata": {
    "tags": []
   },
   "outputs": [],
   "source": [
    "%run ./WDI-Population-ingest.ipynb"
   ]
  },
  {
   "cell_type": "code",
   "execution_count": null,
   "id": "0425b6ee",
   "metadata": {},
   "outputs": [],
   "source": []
  },
  {
   "cell_type": "code",
   "execution_count": null,
   "id": "b7fdb000",
   "metadata": {
    "tags": []
   },
   "outputs": [],
   "source": [
    "%run ./calc_total_sovereign_emissions.ipynb"
   ]
  },
  {
   "cell_type": "code",
   "execution_count": null,
   "id": "74bdbf04",
   "metadata": {},
   "outputs": [],
   "source": []
  },
  {
   "cell_type": "code",
   "execution_count": null,
   "id": "684f344f",
   "metadata": {},
   "outputs": [],
   "source": []
  }
 ],
 "metadata": {
  "kernelspec": {
   "display_name": "Python 3",
   "language": "python",
   "name": "python3"
  },
  "language_info": {
   "codemirror_mode": {
    "name": "ipython",
    "version": 3
   },
   "file_extension": ".py",
   "mimetype": "text/x-python",
   "name": "python",
   "nbconvert_exporter": "python",
   "pygments_lexer": "ipython3",
   "version": "3.8.6"
  }
 },
 "nbformat": 4,
 "nbformat_minor": 5
}
