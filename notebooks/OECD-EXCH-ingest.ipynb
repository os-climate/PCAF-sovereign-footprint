{
 "cells": [
  {
   "cell_type": "markdown",
   "id": "123fbd44-6a73-45ad-92c4-182e82fb6f84",
   "metadata": {},
   "source": [
    "<font size=\"5\">OECD Exchange Rates into Trino pipeline</font>"
   ]
  },
  {
   "cell_type": "markdown",
   "id": "ea79a0a7-4faa-449d-ad5c-5c247789106c",
   "metadata": {},
   "source": [
    "<font size=\"3\">https://data.oecd.org/conversion/exchange-rates.htm</font>"
   ]
  },
  {
   "cell_type": "markdown",
   "id": "9ea3c6bc-68ce-4fd4-9371-265268836a77",
   "metadata": {},
   "source": [
    "Load Environment Variables"
   ]
  },
  {
   "cell_type": "code",
   "execution_count": 2,
   "id": "32b2bef2-3016-41ce-94ad-fee44289de83",
   "metadata": {},
   "outputs": [],
   "source": [
    "from dotenv import dotenv_values, load_dotenv\n",
    "import osc_ingest_trino as osc\n",
    "import os\n",
    "import pathlib\n",
    "dotenv_dir = os.environ.get('CREDENTIAL_DOTENV_DIR', os.environ.get('PWD', '/opt/app-root/src'))\n",
    "dotenv_path = pathlib.Path(dotenv_dir) / 'credentials.env'\n",
    "if os.path.exists(dotenv_path):\n",
    "    load_dotenv(dotenv_path=dotenv_path,override=True)"
   ]
  },
  {
   "cell_type": "code",
   "execution_count": 3,
   "id": "069122c2-1609-44fc-9dfa-8ba218443e3d",
   "metadata": {},
   "outputs": [],
   "source": [
    "# use a catalog that is configured for iceberg\n",
    "ingest_catalog = 'osc_datacommons_dev'\n",
    "ingest_schema = 'pcaf_sovereign_footprint'\n",
    "ingest_table = 'sf_oecd_exch_rates'"
   ]
  },
  {
   "cell_type": "code",
   "execution_count": 4,
   "id": "08e93fa5-0ee5-42f6-a7cd-05486f20f74e",
   "metadata": {},
   "outputs": [],
   "source": [
    "import trino\n",
    "from sqlalchemy.engine import create_engine\n",
    "\n",
    "env_var_prefix = 'TRINO'\n",
    "\n",
    "sqlstring = 'trino://{user}@{host}:{port}/'.format(\n",
    "    user = os.environ[f'{env_var_prefix}_USER'],\n",
    "    host = os.environ[f'{env_var_prefix}_HOST'],\n",
    "    port = os.environ[f'{env_var_prefix}_PORT']\n",
    ")\n",
    "sqlargs = {\n",
    "    'auth': trino.auth.JWTAuthentication(os.environ[f'{env_var_prefix}_PASSWD']),\n",
    "    'http_scheme': 'https',\n",
    "    'catalog': 'osc_datacommons_dev'\n",
    "}\n",
    "engine = create_engine(sqlstring, connect_args = sqlargs)\n",
    "connection = engine.connect()\n",
    "\n",
    "trino_bucket = osc.attach_s3_bucket(\"S3_DEV\")"
   ]
  },
  {
   "cell_type": "code",
   "execution_count": 5,
   "id": "32427c61-4905-4e42-b6f3-196be697cca5",
   "metadata": {},
   "outputs": [],
   "source": [
    "import boto3\n",
    "\n",
    "s3_source = boto3.resource(\n",
    "    service_name=\"s3\",\n",
    "    endpoint_url=os.environ['S3_LANDING_ENDPOINT'],\n",
    "    aws_access_key_id=os.environ['S3_LANDING_ACCESS_KEY'],\n",
    "    aws_secret_access_key=os.environ['S3_LANDING_SECRET_KEY'],\n",
    ")\n",
    "source_bucket = s3_source.Bucket(os.environ['S3_LANDING_BUCKET'])"
   ]
  },
  {
   "cell_type": "markdown",
   "id": "c3ea0d22-675e-4a2b-ab86-adf50e6e1e48",
   "metadata": {},
   "source": [
    "Open a Trino connection using JWT for authentication"
   ]
  },
  {
   "cell_type": "code",
   "execution_count": 6,
   "id": "ca2420a4-3d9f-49ba-9e10-f2544e66b71b",
   "metadata": {},
   "outputs": [],
   "source": [
    "# make sure schema exists, or table creation below will fail in weird ways\n",
    "sql = f\"\"\"\n",
    "create schema if not exists {ingest_catalog}.{ingest_schema}\n",
    "\"\"\"\n",
    "qres = engine.execute(sql)\n",
    "#print(qres.fetchall())"
   ]
  },
  {
   "cell_type": "code",
   "execution_count": 7,
   "id": "5e1600bb-66ae-4206-818e-000c5d336347",
   "metadata": {},
   "outputs": [
    {
     "name": "stdout",
     "output_type": "stream",
     "text": [
      "('aicoe_osc_demo_results',)\n",
      "('default',)\n",
      "('demo_dv',)\n",
      "('dera',)\n",
      "('essd',)\n",
      "('iceberg_demo',)\n",
      "('information_schema',)\n",
      "('ingest',)\n",
      "('mdt_sandbox',)\n",
      "('pcaf_sovereign_footprint',)\n",
      "('rmi',)\n",
      "('sandbox',)\n",
      "('wri_gppd',)\n"
     ]
    }
   ],
   "source": [
    "# Show available schemas to ensure trino connection is set correctly\n",
    "schema_read = engine.execute(f'show schemas in {ingest_catalog}')\n",
    "for row in schema_read.fetchall():\n",
    "    print(row)"
   ]
  },
  {
   "cell_type": "code",
   "execution_count": null,
   "id": "6543a521-d8d6-4222-9df5-8a8ab584a233",
   "metadata": {},
   "outputs": [],
   "source": []
  },
  {
   "cell_type": "code",
   "execution_count": 8,
   "id": "2fb07a12-d0d2-4231-90b8-cb86e56bd44a",
   "metadata": {},
   "outputs": [
    {
     "data": {
      "text/html": [
       "<div>\n",
       "<style scoped>\n",
       "    .dataframe tbody tr th:only-of-type {\n",
       "        vertical-align: middle;\n",
       "    }\n",
       "\n",
       "    .dataframe tbody tr th {\n",
       "        vertical-align: top;\n",
       "    }\n",
       "\n",
       "    .dataframe thead th {\n",
       "        text-align: right;\n",
       "    }\n",
       "</style>\n",
       "<table border=\"1\" class=\"dataframe\">\n",
       "  <thead>\n",
       "    <tr style=\"text-align: right;\">\n",
       "      <th></th>\n",
       "      <th>attribute</th>\n",
       "      <th>country_iso_code</th>\n",
       "      <th>validity_date</th>\n",
       "      <th>value</th>\n",
       "    </tr>\n",
       "  </thead>\n",
       "  <tbody>\n",
       "    <tr>\n",
       "      <th>536</th>\n",
       "      <td>EXCH</td>\n",
       "      <td>DEU</td>\n",
       "      <td>1950</td>\n",
       "      <td>2.144861</td>\n",
       "    </tr>\n",
       "    <tr>\n",
       "      <th>537</th>\n",
       "      <td>EXCH</td>\n",
       "      <td>DEU</td>\n",
       "      <td>1951</td>\n",
       "      <td>2.144861</td>\n",
       "    </tr>\n",
       "    <tr>\n",
       "      <th>538</th>\n",
       "      <td>EXCH</td>\n",
       "      <td>DEU</td>\n",
       "      <td>1952</td>\n",
       "      <td>2.144861</td>\n",
       "    </tr>\n",
       "    <tr>\n",
       "      <th>539</th>\n",
       "      <td>EXCH</td>\n",
       "      <td>DEU</td>\n",
       "      <td>1953</td>\n",
       "      <td>2.147426</td>\n",
       "    </tr>\n",
       "    <tr>\n",
       "      <th>540</th>\n",
       "      <td>EXCH</td>\n",
       "      <td>DEU</td>\n",
       "      <td>1954</td>\n",
       "      <td>2.147426</td>\n",
       "    </tr>\n",
       "    <tr>\n",
       "      <th>...</th>\n",
       "      <td>...</td>\n",
       "      <td>...</td>\n",
       "      <td>...</td>\n",
       "      <td>...</td>\n",
       "    </tr>\n",
       "    <tr>\n",
       "      <th>603</th>\n",
       "      <td>EXCH</td>\n",
       "      <td>DEU</td>\n",
       "      <td>2017</td>\n",
       "      <td>0.885206</td>\n",
       "    </tr>\n",
       "    <tr>\n",
       "      <th>604</th>\n",
       "      <td>EXCH</td>\n",
       "      <td>DEU</td>\n",
       "      <td>2018</td>\n",
       "      <td>0.846773</td>\n",
       "    </tr>\n",
       "    <tr>\n",
       "      <th>605</th>\n",
       "      <td>EXCH</td>\n",
       "      <td>DEU</td>\n",
       "      <td>2019</td>\n",
       "      <td>0.893276</td>\n",
       "    </tr>\n",
       "    <tr>\n",
       "      <th>606</th>\n",
       "      <td>EXCH</td>\n",
       "      <td>DEU</td>\n",
       "      <td>2020</td>\n",
       "      <td>0.875506</td>\n",
       "    </tr>\n",
       "    <tr>\n",
       "      <th>607</th>\n",
       "      <td>EXCH</td>\n",
       "      <td>DEU</td>\n",
       "      <td>2021</td>\n",
       "      <td>0.845494</td>\n",
       "    </tr>\n",
       "  </tbody>\n",
       "</table>\n",
       "<p>72 rows × 4 columns</p>\n",
       "</div>"
      ],
      "text/plain": [
       "    attribute country_iso_code  validity_date     value\n",
       "536      EXCH              DEU           1950  2.144861\n",
       "537      EXCH              DEU           1951  2.144861\n",
       "538      EXCH              DEU           1952  2.144861\n",
       "539      EXCH              DEU           1953  2.147426\n",
       "540      EXCH              DEU           1954  2.147426\n",
       "..        ...              ...            ...       ...\n",
       "603      EXCH              DEU           2017  0.885206\n",
       "604      EXCH              DEU           2018  0.846773\n",
       "605      EXCH              DEU           2019  0.893276\n",
       "606      EXCH              DEU           2020  0.875506\n",
       "607      EXCH              DEU           2021  0.845494\n",
       "\n",
       "[72 rows x 4 columns]"
      ]
     },
     "execution_count": 8,
     "metadata": {},
     "output_type": "execute_result"
    }
   ],
   "source": [
    "import pandas as pd\n",
    "import csv\n",
    "\n",
    "\n",
    "oecd_file = s3_source.Object(os.environ['S3_LANDING_BUCKET'],'PCAF-sovereign-footprint/OECD/DP_LIVE_19072022170858805.csv')\n",
    "oecd_file.download_file(f'/tmp/DP_LIVE_19072022170858805.csv')\n",
    "#df = parser.process('OECD_IMGR_FCO2.ini','OECD.csv') \n",
    "df =pd.read_csv(f'/tmp/DP_LIVE_19072022170858805.csv')\n",
    "df= df[['INDICATOR','LOCATION','TIME','Value']]\n",
    "df=df.convert_dtypes()\n",
    "df\n",
    "dict = {'INDICATOR': 'attribute',\n",
    "        'LOCATION': 'country_iso_code',\n",
    "        'TIME'   : 'validity_date',\n",
    "        'Value' : 'value' }\n",
    "\n",
    "df.rename(columns=dict,\n",
    "          inplace=True)\n",
    "\n",
    "df= df[df['country_iso_code'] == 'DEU']\n",
    "\n",
    "df\n",
    "\n"
   ]
  },
  {
   "cell_type": "code",
   "execution_count": 9,
   "id": "61b53e63-b14f-428b-90c9-2fb28efeea0e",
   "metadata": {},
   "outputs": [],
   "source": [
    "#from datetime import datetime\n",
    "#df[\"validity_date\"]= df[\"validity_date\"].apply(str) + \"0101\"\n",
    "#df[\"validity_date\"]= pd.to_datetime(df[\"validity_date\"]).\n",
    "#df=df.convert_dtypes()\n",
    "#df\n",
    "#df.info(verbose=True)"
   ]
  },
  {
   "cell_type": "code",
   "execution_count": 12,
   "id": "5d2505a4-7b78-45fd-aa4e-555a80e023b5",
   "metadata": {},
   "outputs": [
    {
     "name": "stdout",
     "output_type": "stream",
     "text": [
      "\n",
      "drop table if exists osc_datacommons_dev.pcaf_sovereign_footprint.sf_oecd_exch_rates\n",
      "\n",
      "<sqlalchemy.engine.cursor.LegacyCursorResult object at 0x7efffc8e2070>\n"
     ]
    }
   ],
   "source": [
    "import osc_ingest_trino as osc\n",
    "\n",
    "\n",
    "columnschema = osc.create_table_schema_pairs(df) \n",
    "\n",
    "sql = f\"\"\"\n",
    "drop table if exists {ingest_catalog}.{ingest_schema}.{ingest_table}\n",
    "\"\"\"\n",
    "print(sql)\n",
    "qres = engine.execute(sql)\n",
    "#print(qres.fetchall())\n",
    "print(qres)"
   ]
  },
  {
   "cell_type": "code",
   "execution_count": 13,
   "id": "91781e62-2cbc-4a05-929c-17772c4c1404",
   "metadata": {},
   "outputs": [
    {
     "name": "stdout",
     "output_type": "stream",
     "text": [
      "<class 'pandas.core.frame.DataFrame'>\n",
      "Index: 72 entries, 536 to 607\n",
      "Data columns (total 4 columns):\n",
      " #   Column            Non-Null Count  Dtype  \n",
      "---  ------            --------------  -----  \n",
      " 0   attribute         72 non-null     string \n",
      " 1   country_iso_code  72 non-null     string \n",
      " 2   validity_date     72 non-null     Int64  \n",
      " 3   value             72 non-null     Float64\n",
      "dtypes: Float64(1), Int64(1), string(2)\n",
      "memory usage: 3.0 KB\n"
     ]
    }
   ],
   "source": [
    "df.info(verbose=True)\n",
    "        \n",
    "        "
   ]
  },
  {
   "cell_type": "code",
   "execution_count": 14,
   "id": "74d45044-1ea2-419a-aa71-32af9cf9b7ee",
   "metadata": {},
   "outputs": [
    {
     "name": "stdout",
     "output_type": "stream",
     "text": [
      "constructed fully qualified table name as: \"pcaf_sovereign_footprint.sf_oecd_exch_rates\"\n",
      "inserting 72 records\n",
      "  ('EXCH', 'DEU', 1950, 2.144861)\n",
      "  ('EXCH', 'DEU', 1951, 2.144861)\n",
      "  ('EXCH', 'DEU', 1952, 2.144861)\n",
      "  ...\n",
      "  ('EXCH', 'DEU', 2021, 0.845494)\n",
      "batch insert result: [(72,)]\n"
     ]
    }
   ],
   "source": [
    "df.to_sql(ingest_table,\n",
    "           con=engine,\n",
    "           schema=ingest_schema,\n",
    "           if_exists='append',\n",
    "           index=False,\n",
    "           method=osc.TrinoBatchInsert(batch_size = 5000, verbose = True))"
   ]
  },
  {
   "cell_type": "code",
   "execution_count": 15,
   "id": "aea4e66d-eef4-492a-8ace-ca760940708b",
   "metadata": {},
   "outputs": [
    {
     "data": {
      "text/html": [
       "<div>\n",
       "<style scoped>\n",
       "    .dataframe tbody tr th:only-of-type {\n",
       "        vertical-align: middle;\n",
       "    }\n",
       "\n",
       "    .dataframe tbody tr th {\n",
       "        vertical-align: top;\n",
       "    }\n",
       "\n",
       "    .dataframe thead th {\n",
       "        text-align: right;\n",
       "    }\n",
       "</style>\n",
       "<table border=\"1\" class=\"dataframe\">\n",
       "  <thead>\n",
       "    <tr style=\"text-align: right;\">\n",
       "      <th></th>\n",
       "      <th>attribute</th>\n",
       "      <th>country_iso_code</th>\n",
       "      <th>validity_date</th>\n",
       "      <th>value</th>\n",
       "    </tr>\n",
       "  </thead>\n",
       "  <tbody>\n",
       "    <tr>\n",
       "      <th>0</th>\n",
       "      <td>EXCH</td>\n",
       "      <td>DEU</td>\n",
       "      <td>2020</td>\n",
       "      <td>0.875506</td>\n",
       "    </tr>\n",
       "  </tbody>\n",
       "</table>\n",
       "</div>"
      ],
      "text/plain": [
       "  attribute country_iso_code  validity_date     value\n",
       "0      EXCH              DEU           2020  0.875506"
      ]
     },
     "execution_count": 15,
     "metadata": {},
     "output_type": "execute_result"
    }
   ],
   "source": [
    "sql=f\"\"\"\n",
    "select * from {ingest_catalog}.{ingest_schema}.{ingest_table}\" + \"where validity_date=2020\"\"\"\n",
    "pd.read_sql(sql, engine)"
   ]
  },
  {
   "cell_type": "code",
   "execution_count": null,
   "id": "bdda9017-4059-4264-b5ae-4e0a22d0969a",
   "metadata": {},
   "outputs": [],
   "source": []
  }
 ],
 "metadata": {
  "kernelspec": {
   "display_name": "Python 3",
   "language": "python",
   "name": "python3"
  },
  "language_info": {
   "codemirror_mode": {
    "name": "ipython",
    "version": 3
   },
   "file_extension": ".py",
   "mimetype": "text/x-python",
   "name": "python",
   "nbconvert_exporter": "python",
   "pygments_lexer": "ipython3",
   "version": "3.8.6"
  }
 },
 "nbformat": 4,
 "nbformat_minor": 5
}
