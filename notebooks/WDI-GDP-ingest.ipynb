{
 "cells": [
  {
   "cell_type": "markdown",
   "id": "4c22bee1-8230-457b-b1e6-0addbbb0b2fe",
   "metadata": {},
   "source": [
    "<font size=\"5\">Ingest WDI - \"GDP per capita\" data into Trino pipeline</font>"
   ]
  },
  {
   "cell_type": "code",
   "execution_count": 1,
   "id": "5eda7d2a-f40d-430b-9549-24021eb5099b",
   "metadata": {},
   "outputs": [],
   "source": [
    "import os\n",
    "import pathlib\n",
    "import json\n",
    "import osc_ingest_trino as osc\n",
    "import trino\n",
    "from sqlalchemy.engine import create_engine\n",
    "\n",
    "import pandas as pd\n",
    "from openscm_units import unit_registry\n",
    "from pint import set_application_registry, Quantity\n",
    "from pint_pandas import PintArray, PintType\n",
    "\n",
    "from dotenv import dotenv_values, load_dotenv\n",
    "import pathlib\n",
    "dotenv_dir = os.environ.get('CREDENTIAL_DOTENV_DIR', os.environ.get('PWD', '/opt/app-root/src'))\n",
    "dotenv_path = pathlib.Path(dotenv_dir) / 'credentials.env'\n",
    "if os.path.exists(dotenv_path):\n",
    "    load_dotenv(dotenv_path=dotenv_path,override=True)"
   ]
  },
  {
   "cell_type": "markdown",
   "id": "9ea3c6bc-68ce-4fd4-9371-265268836a77",
   "metadata": {},
   "source": [
    "Load Environment Variables"
   ]
  },
  {
   "cell_type": "code",
   "execution_count": 2,
   "id": "32b2bef2-3016-41ce-94ad-fee44289de83",
   "metadata": {},
   "outputs": [],
   "source": [
    "dotenv_dir = os.environ.get('CREDENTIAL_DOTENV_DIR', os.environ.get('PWD', '/opt/app-root/src'))\n",
    "dotenv_path = pathlib.Path(dotenv_dir) / 'credentials.env'\n",
    "if os.path.exists(dotenv_path):\n",
    "    load_dotenv(dotenv_path=dotenv_path,override=True)"
   ]
  },
  {
   "cell_type": "code",
   "execution_count": 3,
   "id": "069122c2-1609-44fc-9dfa-8ba218443e3d",
   "metadata": {},
   "outputs": [],
   "source": [
    "# use a catalog that is configured for iceberg\n",
    "ingest_catalog = 'osc_datacommons_dev'\n",
    "ingest_schema = 'pcaf_sovereign_footprint'\n",
    "ingest_table = 'sf_wdi_gdp'"
   ]
  },
  {
   "cell_type": "code",
   "execution_count": 4,
   "id": "08e93fa5-0ee5-42f6-a7cd-05486f20f74e",
   "metadata": {},
   "outputs": [],
   "source": [
    "import trino\n",
    "from sqlalchemy.engine import create_engine\n",
    "\n",
    "env_var_prefix = 'TRINO'\n",
    "\n",
    "sqlstring = 'trino://{user}@{host}:{port}/'.format(\n",
    "    user = os.environ[f'{env_var_prefix}_USER'],\n",
    "    host = os.environ[f'{env_var_prefix}_HOST'],\n",
    "    port = os.environ[f'{env_var_prefix}_PORT']\n",
    ")\n",
    "sqlargs = {\n",
    "    'auth': trino.auth.JWTAuthentication(os.environ[f'{env_var_prefix}_PASSWD']),\n",
    "    'http_scheme': 'https',\n",
    "    'catalog': 'osc_datacommons_dev'\n",
    "}\n",
    "engine = create_engine(sqlstring, connect_args = sqlargs)\n",
    "connection = engine.connect()\n",
    "\n",
    "trino_bucket = osc.attach_s3_bucket(\"S3_DEV\")"
   ]
  },
  {
   "cell_type": "code",
   "execution_count": 5,
   "id": "32427c61-4905-4e42-b6f3-196be697cca5",
   "metadata": {},
   "outputs": [],
   "source": [
    "import boto3\n",
    "\n",
    "s3_source = boto3.resource(\n",
    "    service_name=\"s3\",\n",
    "    endpoint_url=os.environ['S3_LANDING_ENDPOINT'],\n",
    "    aws_access_key_id=os.environ['S3_LANDING_ACCESS_KEY'],\n",
    "    aws_secret_access_key=os.environ['S3_LANDING_SECRET_KEY'],\n",
    ")\n",
    "source_bucket = s3_source.Bucket(os.environ['S3_LANDING_BUCKET'])"
   ]
  },
  {
   "cell_type": "markdown",
   "id": "c3ea0d22-675e-4a2b-ab86-adf50e6e1e48",
   "metadata": {},
   "source": [
    "Open a Trino connection using JWT for authentication"
   ]
  },
  {
   "cell_type": "code",
   "execution_count": 8,
   "id": "5e1600bb-66ae-4206-818e-000c5d336347",
   "metadata": {},
   "outputs": [
    {
     "ename": "ObjectNotExecutableError",
     "evalue": "Not an executable object: 'show schemas from osc_datacommons_dev'",
     "output_type": "error",
     "traceback": [
      "\u001b[0;31m---------------------------------------------------------------------------\u001b[0m",
      "\u001b[0;31mAttributeError\u001b[0m                            Traceback (most recent call last)",
      "\u001b[0;32m/opt/app-root/lib64/python3.8/site-packages/sqlalchemy/engine/base.py\u001b[0m in \u001b[0;36mexecute\u001b[0;34m(self, statement, parameters, execution_options)\u001b[0m\n\u001b[1;32m   1413\u001b[0m         \u001b[0;32mtry\u001b[0m\u001b[0;34m:\u001b[0m\u001b[0;34m\u001b[0m\u001b[0;34m\u001b[0m\u001b[0m\n\u001b[0;32m-> 1414\u001b[0;31m             \u001b[0mmeth\u001b[0m \u001b[0;34m=\u001b[0m \u001b[0mstatement\u001b[0m\u001b[0;34m.\u001b[0m\u001b[0m_execute_on_connection\u001b[0m\u001b[0;34m\u001b[0m\u001b[0;34m\u001b[0m\u001b[0m\n\u001b[0m\u001b[1;32m   1415\u001b[0m         \u001b[0;32mexcept\u001b[0m \u001b[0mAttributeError\u001b[0m \u001b[0;32mas\u001b[0m \u001b[0merr\u001b[0m\u001b[0;34m:\u001b[0m\u001b[0;34m\u001b[0m\u001b[0;34m\u001b[0m\u001b[0m\n",
      "\u001b[0;31mAttributeError\u001b[0m: 'str' object has no attribute '_execute_on_connection'",
      "\nThe above exception was the direct cause of the following exception:\n",
      "\u001b[0;31mObjectNotExecutableError\u001b[0m                  Traceback (most recent call last)",
      "\u001b[0;32m<ipython-input-8-a40cb5f35ca4>\u001b[0m in \u001b[0;36m<module>\u001b[0;34m\u001b[0m\n\u001b[1;32m      1\u001b[0m \u001b[0;31m# Show available schemas to ensure trino connection is set correctly\u001b[0m\u001b[0;34m\u001b[0m\u001b[0;34m\u001b[0m\u001b[0;34m\u001b[0m\u001b[0m\n\u001b[0;32m----> 2\u001b[0;31m \u001b[0mschema_read\u001b[0m \u001b[0;34m=\u001b[0m \u001b[0mconnection\u001b[0m\u001b[0;34m.\u001b[0m\u001b[0mexecute\u001b[0m\u001b[0;34m(\u001b[0m\u001b[0;34mf'show schemas from {ingest_catalog}'\u001b[0m\u001b[0;34m)\u001b[0m\u001b[0;34m\u001b[0m\u001b[0;34m\u001b[0m\u001b[0m\n\u001b[0m\u001b[1;32m      3\u001b[0m \u001b[0;32mfor\u001b[0m \u001b[0mrow\u001b[0m \u001b[0;32min\u001b[0m \u001b[0mschema_read\u001b[0m\u001b[0;34m.\u001b[0m\u001b[0mfetchall\u001b[0m\u001b[0;34m(\u001b[0m\u001b[0;34m)\u001b[0m\u001b[0;34m:\u001b[0m\u001b[0;34m\u001b[0m\u001b[0;34m\u001b[0m\u001b[0m\n\u001b[1;32m      4\u001b[0m     \u001b[0mprint\u001b[0m\u001b[0;34m(\u001b[0m\u001b[0mrow\u001b[0m\u001b[0;34m)\u001b[0m\u001b[0;34m\u001b[0m\u001b[0;34m\u001b[0m\u001b[0m\n",
      "\u001b[0;32m/opt/app-root/lib64/python3.8/site-packages/sqlalchemy/engine/base.py\u001b[0m in \u001b[0;36mexecute\u001b[0;34m(self, statement, parameters, execution_options)\u001b[0m\n\u001b[1;32m   1414\u001b[0m             \u001b[0mmeth\u001b[0m \u001b[0;34m=\u001b[0m \u001b[0mstatement\u001b[0m\u001b[0;34m.\u001b[0m\u001b[0m_execute_on_connection\u001b[0m\u001b[0;34m\u001b[0m\u001b[0;34m\u001b[0m\u001b[0m\n\u001b[1;32m   1415\u001b[0m         \u001b[0;32mexcept\u001b[0m \u001b[0mAttributeError\u001b[0m \u001b[0;32mas\u001b[0m \u001b[0merr\u001b[0m\u001b[0;34m:\u001b[0m\u001b[0;34m\u001b[0m\u001b[0;34m\u001b[0m\u001b[0m\n\u001b[0;32m-> 1416\u001b[0;31m             \u001b[0;32mraise\u001b[0m \u001b[0mexc\u001b[0m\u001b[0;34m.\u001b[0m\u001b[0mObjectNotExecutableError\u001b[0m\u001b[0;34m(\u001b[0m\u001b[0mstatement\u001b[0m\u001b[0;34m)\u001b[0m \u001b[0;32mfrom\u001b[0m \u001b[0merr\u001b[0m\u001b[0;34m\u001b[0m\u001b[0;34m\u001b[0m\u001b[0m\n\u001b[0m\u001b[1;32m   1417\u001b[0m         \u001b[0;32melse\u001b[0m\u001b[0;34m:\u001b[0m\u001b[0;34m\u001b[0m\u001b[0;34m\u001b[0m\u001b[0m\n\u001b[1;32m   1418\u001b[0m             return meth(\n",
      "\u001b[0;31mObjectNotExecutableError\u001b[0m: Not an executable object: 'show schemas from osc_datacommons_dev'"
     ]
    }
   ],
   "source": [
    "# Show available schemas to ensure trino connection is set correctly\n",
    "#schema_read = connection.execute(f'show schemas from {ingest_catalog}')\n",
    "schema_read = connection.execute(f'select schema_name from {ingest_catalog}')\n",
    "for row in schema_read.fetchall():\n",
    "    print(row)"
   ]
  },
  {
   "cell_type": "code",
   "execution_count": null,
   "id": "6543a521-d8d6-4222-9df5-8a8ab584a233",
   "metadata": {},
   "outputs": [],
   "source": []
  },
  {
   "cell_type": "markdown",
   "id": "7ca121a7-4b32-42e6-b412-64a07fe5f9c6",
   "metadata": {},
   "source": [
    "Load GDP file (updated sporadically from https://data.worldbank.org/indicator/NY.GDP.PCAP.PP.CD)"
   ]
  },
  {
   "cell_type": "code",
   "execution_count": 8,
   "id": "2fb07a12-d0d2-4231-90b8-cb86e56bd44a",
   "metadata": {},
   "outputs": [
    {
     "name": "stdout",
     "output_type": "stream",
     "text": [
      "WDI_GDP.ini\n",
      "file_list:\n",
      "['/tmp/API_NY.GDP.MKTP.CD_DS2_en_csv_v2.csv']\n",
      "/tmp/API_NY.GDP.MKTP.CD_DS2_en_csv_v2.csv\n",
      "2\n",
      "csv\n",
      "/tmp/API_NY.GDP.MKTP.CD_DS2_en_csv_v\n",
      "<configparser.ConfigParser object at 0x7f206114ae50>\n",
      "WDI_GDP_PPP.ini\n",
      "file_list:\n",
      "['/tmp/API_NY.GDP.MKTP.PP.CD_DS2_en_csv_v2.csv']\n",
      "/tmp/API_NY.GDP.MKTP.PP.CD_DS2_en_csv_v2.csv\n",
      "2\n",
      "csv\n",
      "/tmp/API_NY.GDP.MKTP.PP.CD_DS2_en_csv_v\n",
      "<configparser.ConfigParser object at 0x7f2060775f70>\n"
     ]
    },
    {
     "ename": "NameError",
     "evalue": "name 'XXXXX' is not defined",
     "output_type": "error",
     "traceback": [
      "\u001b[0;31m---------------------------------------------------------------------------\u001b[0m",
      "\u001b[0;31mNameError\u001b[0m                                 Traceback (most recent call last)",
      "Input \u001b[0;32mIn [8]\u001b[0m, in \u001b[0;36m<cell line: 25>\u001b[0;34m()\u001b[0m\n\u001b[1;32m     23\u001b[0m df2 \u001b[38;5;241m=\u001b[39m parser\u001b[38;5;241m.\u001b[39mprocess(\u001b[38;5;124m'\u001b[39m\u001b[38;5;124mWDI_GDP_PPP.ini\u001b[39m\u001b[38;5;124m'\u001b[39m,\u001b[38;5;124m'\u001b[39m\u001b[38;5;124mWDI_GDP_PPP.csv\u001b[39m\u001b[38;5;124m'\u001b[39m) \n\u001b[1;32m     24\u001b[0m df2\u001b[38;5;241m.\u001b[39mto_csv(\u001b[38;5;124m'\u001b[39m\u001b[38;5;124mWDI-API_NY.GDP.MKTP.PP.CD_DS2_en_csv_v2.csv\u001b[39m\u001b[38;5;124m'\u001b[39m)\n\u001b[0;32m---> 25\u001b[0m \u001b[43mXXXXX\u001b[49m\n\u001b[1;32m     27\u001b[0m \u001b[38;5;66;03m# combine both dataframes\u001b[39;00m\n\u001b[1;32m     29\u001b[0m df \u001b[38;5;241m=\u001b[39mpd\u001b[38;5;241m.\u001b[39mconcat([df,df2])\n",
      "\u001b[0;31mNameError\u001b[0m: name 'XXXXX' is not defined"
     ]
    }
   ],
   "source": [
    "import pandas as pd\n",
    "import ParseXLS as parser\n",
    "\n",
    "\n",
    "## GDP\n",
    "ticker_file = s3_source.Object(os.environ['S3_LANDING_BUCKET'],'PCAF-sovereign-footprint/WDI/API_NY.GDP.MKTP.CD_DS2_en_csv_v2.csv')\n",
    "ticker_file.download_file(f'/tmp/API_NY.GDP.MKTP.CD_DS2_en_csv_v2.csv')\n",
    "\n",
    "\n",
    "\n",
    "df = parser.process('WDI_GDP.ini','WDI_GDP.csv') \n",
    "\n",
    "\n",
    "\n",
    "## GDP PPP\n",
    "\n",
    "ticker_file = s3_source.Object(os.environ['S3_LANDING_BUCKET'],'PCAF-sovereign-footprint/WDI/API_NY.GDP.MKTP.PP.CD_DS2_en_csv_v2.csv')\n",
    "ticker_file.download_file(f'/tmp/API_NY.GDP.MKTP.PP.CD_DS2_en_csv_v2.csv')\n",
    "\n",
    "\n",
    "\n",
    "df2 = parser.process('WDI_GDP_PPP.ini','WDI_GDP_PPP.csv') \n",
    "\n",
    "# combine both dataframes\n",
    "\n",
    "df =pd.concat([df,df2])\n",
    "\n",
    "df=df.astype({'validity_date': 'int32'})\n",
    "df= df.convert_dtypes()\n",
    "df.info(verbose=True)\n",
    "df= df[['rec_source','data_provider','country_iso_code','country_name','validity_date','attribute','value','value_units']].dropna(subset=['value'])\n",
    "#df = df.convert_dtypes()\n",
    "#print(df.info(verbose=True))\n",
    "#df\n",
    "#df\n"
   ]
  },
  {
   "cell_type": "code",
   "execution_count": null,
   "id": "84aff2fd-aa22-47bd-9ec4-98acdf3867ed",
   "metadata": {},
   "outputs": [],
   "source": [
    "#%run -i TransposeXLS.py --config WDI.ini --output=WDI.csv "
   ]
  },
  {
   "cell_type": "code",
   "execution_count": null,
   "id": "ca3306d2-924f-472b-80d6-cdf86a91a22f",
   "metadata": {},
   "outputs": [],
   "source": [
    "import osc_ingest_trino as osc\n",
    "columnschema = osc.create_table_schema_pairs(df) \n"
   ]
  },
  {
   "cell_type": "code",
   "execution_count": null,
   "id": "8e65e726-33c2-4821-8582-fddb4cd43f69",
   "metadata": {},
   "outputs": [],
   "source": [
    "tabledef = f\"\"\"\n",
    "create table if not exists {ingest_catalog}.{ingest_schema}.{ingest_table}(\n",
    "{columnschema}\n",
    ") with (\n",
    "    format = 'ORC',\n",
    "    partitioning = array['validity_date']\n",
    ")\n",
    "\"\"\"\n",
    "print(tabledef)\n",
    "qres = engine.execute(tabledef)\n",
    "#print(qres.fetchall())"
   ]
  },
  {
   "cell_type": "code",
   "execution_count": null,
   "id": "1b4f212a-533d-45c3-9314-309c067bf393",
   "metadata": {},
   "outputs": [],
   "source": [
    "# Delete the data for the related attribute \n",
    "sql=f\"\"\"\n",
    "delete from {ingest_catalog}.{ingest_schema}.{ingest_table} \n",
    "\"\"\"\n",
    "qres = engine.execute(sql)\n",
    "print(qres.fetchall())"
   ]
  },
  {
   "cell_type": "code",
   "execution_count": null,
   "id": "d78a282a-e16b-4e3d-9398-46a72eebf197",
   "metadata": {},
   "outputs": [],
   "source": [
    "sql=f\"\"\"\n",
    "select * from {ingest_catalog}.{ingest_schema}.{ingest_table}\n",
    "\"\"\"\n",
    "pd.read_sql(sql, engine)\n"
   ]
  },
  {
   "cell_type": "code",
   "execution_count": null,
   "id": "8c51c0c2-1f5a-44c2-82c0-e6f397d8bbc2",
   "metadata": {},
   "outputs": [],
   "source": [
    "print(ingest_catalog)\n",
    "#df=df.drop(df[df.country_name==\"cote d'ivoire\"].index)\n",
    "df.to_sql(ingest_table,\n",
    "           con=engine,\n",
    "           schema=ingest_schema,\n",
    "           if_exists='append',\n",
    "           index=False,\n",
    "           method=osc.TrinoBatchInsert(batch_size = 1000, verbose = True))"
   ]
  },
  {
   "cell_type": "code",
   "execution_count": null,
   "id": "080e8a85-785d-4f52-97f6-0573e7d08b61",
   "metadata": {},
   "outputs": [],
   "source": [
    "import pandas as pd\n",
    "sql=f\"\"\"\n",
    "select * from {ingest_catalog}.{ingest_schema}.{ingest_table}\" + \" where country_iso_code='BHS' order by validity_date desc\"\"\"\n",
    "pd.read_sql(sql, engine)\n"
   ]
  },
  {
   "cell_type": "code",
   "execution_count": null,
   "id": "91781e62-2cbc-4a05-929c-17772c4c1404",
   "metadata": {},
   "outputs": [],
   "source": []
  },
  {
   "cell_type": "code",
   "execution_count": null,
   "id": "74d45044-1ea2-419a-aa71-32af9cf9b7ee",
   "metadata": {},
   "outputs": [],
   "source": []
  },
  {
   "cell_type": "code",
   "execution_count": null,
   "id": "aea4e66d-eef4-492a-8ace-ca760940708b",
   "metadata": {},
   "outputs": [],
   "source": []
  }
 ],
 "metadata": {
  "kernelspec": {
   "display_name": "Python 3",
   "language": "python",
   "name": "python3"
  },
  "language_info": {
   "codemirror_mode": {
    "name": "ipython",
    "version": 3
   },
   "file_extension": ".py",
   "mimetype": "text/x-python",
   "name": "python",
   "nbconvert_exporter": "python",
   "pygments_lexer": "ipython3",
   "version": "3.8.6"
  }
 },
 "nbformat": 4,
 "nbformat_minor": 5
}
